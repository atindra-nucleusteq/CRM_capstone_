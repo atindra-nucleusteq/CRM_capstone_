{
 "cells": [
  {
   "cell_type": "code",
   "execution_count": 92,
   "metadata": {},
   "outputs": [],
   "source": [
    "from pyspark.sql import SparkSession\n",
    "from pyspark.sql.functions import isnull , when , count, regexp_replace, udf, initcap, col, regexp_extract, lit, expr, avg\n",
    "from pyspark.sql.types import StringType\n",
    "from datetime import datetime\n",
    "import re\n",
    "import shutil\n",
    "import os\n"
   ]
  },
  {
   "cell_type": "code",
   "execution_count": 68,
   "metadata": {},
   "outputs": [],
   "source": [
    "# Initialize a Spark session\n",
    "spark = SparkSession.builder \\\n",
    "        .appName(\"PySpark Test\") \\\n",
    "        .getOrCreate()\n",
    "\n",
    "\n",
    "    \n",
    "    \n",
    "        \n",
    "df_customers = spark.read.csv(\"CRM_data/customers.csv\" , header = True , inferSchema = True)\n",
    "df_interactions = spark.read.csv(\"CRM_data/interactions.csv\" , header = True , inferSchema = True)\n",
    "df_products = spark.read.csv(\"CRM_data/products.csv\" , header = True , inferSchema = True)\n",
    "df_sales = spark.read.csv(\"CRM_data/sales_team.csv\" , header = True , inferSchema = True)\n",
    "df_transactions = spark.read.csv(\"CRM_data/transactions.csv\" , header = True , inferSchema = True)\n",
    "    \n",
    "    # data accuracy checks\n",
    "    \n",
    "      # customer_id checks\n",
    "    \n",
    "        \n",
    "    \n",
    "df_customers.createOrReplaceTempView(\"customers_table\")\n",
    "df_transactions.createOrReplaceTempView(\"transactions_table\")\n",
    "df_interactions.createOrReplaceTempView(\"interactions_table\")\n",
    "df_products.createOrReplaceTempView(\"products_table\")\n",
    "df_sales.createOrReplaceTempView(\"sales_table\")\n",
    "    \n",
    "    # data accuracy of customers and transactions files\n",
    "    \n",
    "    \n",
    "    \n",
    "\n",
    "\n",
    "  \n",
    "\n",
    "        "
   ]
  },
  {
   "cell_type": "code",
   "execution_count": 69,
   "metadata": {},
   "outputs": [
    {
     "name": "stdout",
     "output_type": "stream",
     "text": [
      "+--------------------+--------------------+----------+----------+------+--------------------+--------------------+--------------------+--------------------+--------------------+\n",
      "|         Customer_ID|      Transaction_ID|Product_ID|      Date|Amount|        Sales_Rep_ID|                Name|               Email|               Phone|             Country|\n",
      "+--------------------+--------------------+----------+----------+------+--------------------+--------------------+--------------------+--------------------+--------------------+\n",
      "|d7522cab-f713-4c7...|31190b6c-54cd-4cd...|        48|01-04-2024|   234|8aede4f3-bd43-45a...|         Sarah Duran|francisleblanc@ex...|001-863-315-0524x...|Lao People's Demo...|\n",
      "|dae0689d-0c38-440...|05d4bcca-dc8e-405...|         3|28-03-2024|   119|c48b42a3-544b-454...|      Margaret Terry| jmiller@example.net|        516-680-4883|             Bahrain|\n",
      "|075005e4-bb34-496...|9b6e01be-1814-41e...|        26|09-06-2024|   240|d7558c8d-5355-48e...|       David Mcmahon|  dale06@example.com|          6505093434|             Jamaica|\n",
      "|ec910504-7738-463...|46bd8f7c-20e0-405...|        37|24-03-2024|   451|d0fa26a0-d161-497...|       Carolyn James|beverett@example.org|  (721)511-9113x0438|               Spain|\n",
      "|84441f52-77e5-450...|f02dded4-81bf-431...|         4|29-05-2024|    78|8aede4f3-bd43-45a...|Christopher Phillips|jacksondeanna@exa...|        588.288.3021|              Norway|\n",
      "|2b2673a4-7eed-477...|9b068943-af5f-4e4...|        20|23-07-2024|   382|5f719abf-9d76-49d...|           Roy Young|                NULL|          3167415396|             Ukraine|\n",
      "|742f0811-2251-480...|810a7e7a-8a84-4f0...|        16|10-06-2024|   191|d0fa26a0-d161-497...|  Christopher Carter|michael68@example...|        881-312-9168|          Kazakhstan|\n",
      "|c7f17f22-4ba9-4d2...|a62a6e9d-6520-457...|        12|07-04-2024|   405|182f2a72-4271-4bb...|      Scott Crawford|marydavis@example...|          9982347024|            Pakistan|\n",
      "|8b32a852-99ed-4de...|7732c304-f7ee-424...|        15|15-06-2024|   452|8aede4f3-bd43-45a...|     Kevin Gallagher|katherineschaefer...|+1-258-421-2413x1491|          Azerbaijan|\n",
      "|1d664e5b-d86e-4a5...|4dee3398-db6d-499...|        26|16-02-2024|   186|e48e19e2-3978-433...|        Joel Vasquez|raymondstevens@ex...|  906.703.2967x38051|            Cameroon|\n",
      "|1d664e5b-d86e-4a5...|4dee3398-db6d-499...|        26|16-02-2024|   186|e48e19e2-3978-433...|        Joel Vasquez|raymondstevens@ex...|  906.703.2967x38051|            Cameroon|\n",
      "|dcfde7f7-afda-460...|b0cc0929-4f6a-4fb...|        33|20-02-2024|   264|bcbf0f5c-6497-421...|      April Phillips|                NULL|001-418-435-9902x576|       Liechtenstein|\n",
      "|006af455-013b-4c0...|007fa68d-e211-47a...|        43|14-02-2024|   357|33ea8c7d-1b0a-4be...|       Jason Jackson|dylanduran@exampl...|          2484285464|         Philippines|\n",
      "|96012fd8-091c-429...|6326201e-38cb-4b1...|        48|06-07-2024|   380|5184e796-6c9f-401...|        Ruth Alvarez|                NULL|        917.965.7512|    Papua New Guinea|\n",
      "|b8564eba-3bc2-430...|d046f83e-4bb4-420...|        27|21-07-2024|   242|5f719abf-9d76-49d...|      Timothy Walker|fespinoza@example...| (556)773-9174x86891|          Luxembourg|\n",
      "|ff3a6c5b-77ac-485...|8ca7d031-990a-4b6...|        46|13-01-2024|   263|d0fa26a0-d161-497...|           Amy Garza|amandaalvarez@exa...|          2996799761|    French Polynesia|\n",
      "|877b1593-0779-449...|d9ff5d09-c0e2-438...|        18|14-06-2024|   317|d07336a6-e21c-45d...|       Robert Thomas|                NULL|          2026652935|              Jersey|\n",
      "|df1d006a-dcec-4ae...|79efd046-fa1a-467...|         7|27-02-2024|   220|7bf59475-aa40-48d...|        Ruben Guerra|victoriascott@exa...|+1-380-776-0484x4133|               Macao|\n",
      "|3e1907bd-306b-461...|2581c29a-4cdb-4ae...|        19|21-06-2024|   264|440d8680-f45c-487...|    William Thompson|ambersweeney@exam...|001-421-971-6356x...|         El Salvador|\n",
      "|0e206840-2f54-49e...|b2653378-fb94-40e...|         7|17-01-2024|   272|c48b42a3-544b-454...|        James Rivera|welchcynthia@exam...|       (995)775-9693|             Comoros|\n",
      "+--------------------+--------------------+----------+----------+------+--------------------+--------------------+--------------------+--------------------+--------------------+\n",
      "only showing top 20 rows\n",
      "\n"
     ]
    }
   ],
   "source": [
    "df_common = df_transactions.join(df_customers, on = \"Customer_ID\" , how = 'inner')\n",
    "df_common.show()\n",
    "\n"
   ]
  },
  {
   "cell_type": "code",
   "execution_count": 70,
   "metadata": {},
   "outputs": [
    {
     "name": "stdout",
     "output_type": "stream",
     "text": [
      "+-----------+--------------+----------+----+------+------------+\n",
      "|Customer_ID|Transaction_ID|Product_ID|Date|Amount|Sales_Rep_ID|\n",
      "+-----------+--------------+----------+----+------+------------+\n",
      "+-----------+--------------+----------+----+------+------------+\n",
      "\n"
     ]
    }
   ],
   "source": [
    "#data accuracy in customers and transaction tables\n",
    "df_not_in_costumers_transactions = df_transactions.join(df_customers, on='Customer_ID', how = \"left_anti\")\n",
    "df_not_in_costumers_transactions.show()"
   ]
  },
  {
   "cell_type": "code",
   "execution_count": 71,
   "metadata": {},
   "outputs": [
    {
     "name": "stdout",
     "output_type": "stream",
     "text": [
      "+-----------+--------------+----------------+----------------+--------------+\n",
      "|Customer_ID|Interaction_ID|Interaction_Date|Interaction_Type|Issue_Resolved|\n",
      "+-----------+--------------+----------------+----------------+--------------+\n",
      "+-----------+--------------+----------------+----------------+--------------+\n",
      "\n"
     ]
    }
   ],
   "source": [
    "#data accuracy in customers and interactions tables\n",
    "df_not_in_customers_interactions = df_interactions.join(df_customers, on='Customer_ID',how=\"left_anti\")\n",
    "df_not_in_customers_interactions.show()"
   ]
  },
  {
   "cell_type": "code",
   "execution_count": 72,
   "metadata": {},
   "outputs": [
    {
     "name": "stdout",
     "output_type": "stream",
     "text": [
      "+----------+--------------+-----------+----+------+------------+\n",
      "|Product_ID|Transaction_ID|Customer_ID|Date|Amount|Sales_Rep_ID|\n",
      "+----------+--------------+-----------+----+------+------------+\n",
      "+----------+--------------+-----------+----+------+------------+\n",
      "\n"
     ]
    }
   ],
   "source": [
    "#data accuracy in products and transactions\n",
    "df_not_in_products_transactions = df_transactions.join(df_products, on='Product_ID',how = \"left_anti\")\n",
    "df_not_in_products_transactions.show()"
   ]
  },
  {
   "cell_type": "code",
   "execution_count": 73,
   "metadata": {},
   "outputs": [
    {
     "name": "stdout",
     "output_type": "stream",
     "text": [
      "+------------+--------------+-----------+----------+----+------+\n",
      "|Sales_Rep_ID|Transaction_ID|Customer_ID|Product_ID|Date|Amount|\n",
      "+------------+--------------+-----------+----------+----+------+\n",
      "+------------+--------------+-----------+----------+----+------+\n",
      "\n"
     ]
    }
   ],
   "source": [
    "#data accuracy in sales and transactions team\n",
    "df_not_in_sales_transactions = df_transactions.join(df_sales,on='Sales_Rep_ID',how='left_anti')\n",
    "df_not_in_sales_transactions.show()"
   ]
  },
  {
   "cell_type": "code",
   "execution_count": 74,
   "metadata": {},
   "outputs": [
    {
     "name": "stdout",
     "output_type": "stream",
     "text": [
      "+------------+--------------+-----------+----------+----+------+\n",
      "|Sales_Rep_ID|Transaction_ID|Customer_ID|Product_ID|Date|Amount|\n",
      "+------------+--------------+-----------+----------+----+------+\n",
      "+------------+--------------+-----------+----------+----+------+\n",
      "\n"
     ]
    }
   ],
   "source": [
    "#data accuracy in sales and transactions team\n",
    "df_not_in_sales_transactions = df_transactions.join(df_sales,on='Sales_Rep_ID',how='left_anti')\n",
    "df_not_in_sales_transactions.show()"
   ]
  },
  {
   "cell_type": "code",
   "execution_count": 75,
   "metadata": {},
   "outputs": [
    {
     "name": "stdout",
     "output_type": "stream",
     "text": [
      "+-------+--------------------+---------------+---------+------------------+------------------+\n",
      "|summary|        Sales_Rep_ID|           Name|   Region|      Sales_Target|    Sales_Achieved|\n",
      "+-------+--------------------+---------------+---------+------------------+------------------+\n",
      "|  count|                  52|             52|       52|                52|                47|\n",
      "|   mean|                NULL|           NULL|     NULL| 27089.55769230769|21912.425531914894|\n",
      "| stddev|                NULL|           NULL|     NULL|11526.293189177553| 9799.237937860891|\n",
      "|    min|02acdbab-d149-405...|Alicia Johnston|  Alabama|             10385|              6119|\n",
      "|    max|f243144e-485f-438...|    William Lee|Wisconsin|             49186|             38252|\n",
      "+-------+--------------------+---------------+---------+------------------+------------------+\n",
      "\n"
     ]
    }
   ],
   "source": [
    "df_sales.describe().show()"
   ]
  },
  {
   "cell_type": "code",
   "execution_count": 76,
   "metadata": {},
   "outputs": [
    {
     "name": "stdout",
     "output_type": "stream",
     "text": [
      "+--------------------+-----------------+--------------------+--------------------+--------------------+\n",
      "|         Customer_ID|             Name|               Email|               Phone|             Country|\n",
      "+--------------------+-----------------+--------------------+--------------------+--------------------+\n",
      "|a85e6a90-78d5-490...|   Shannon Deleon|                NULL|          5878628895|               Japan|\n",
      "|babec972-ffb3-4c5...|Christina Sanchez|craigprice@exampl...|          4832368495|               Haiti|\n",
      "|d74c33bd-69d9-471...|     Thomas Brown|vjohnson@example.org|       (276)903-7065|            Pakistan|\n",
      "|ff05ceba-f459-471...| Lindsey Bradford|kathryn50@example...|                NULL|    Marshall Islands|\n",
      "|f20755f6-8481-490...|       John Boyer|jennifer15@exampl...|       (749)644-5721|       New Caledonia|\n",
      "|2140af6b-0b34-434...|       Paula Sims|angelalong@exampl...|  695-406-8297x62008|             Vietnam|\n",
      "|e390fd9b-f416-417...|      Erin Porter|sharonwood@exampl...|001-463-276-0820x...| Trinidad and Tobago|\n",
      "|7cd74fea-3cb7-4f4...| Courtney Roberts|wmartinez@example...|                NULL|                Togo|\n",
      "|d63527d7-7e3a-477...|        Ann Smith|solischarles@exam...| +1-395-232-1750x475|           Hong Kong|\n",
      "|9ca4c4ed-49bd-445...|   John Henderson|dillonlisa@exampl...|    001-789-987-0072|                Mali|\n",
      "|8a8e0e43-2a68-454...|     Scott Guzman|dguerrero@example...|       (759)791-1455|                Fiji|\n",
      "|96012fd8-091c-429...|     Ruth Alvarez|                NULL|        917.965.7512|    Papua New Guinea|\n",
      "|fa0eb7a7-d4b3-471...|     Victor Cowan|torresjustin@exam...|001-383-795-0054x...|           Australia|\n",
      "|8056d143-f0d2-4bc...|        Maria Cox| sarah39@example.net|        597-899-7173|             Finland|\n",
      "|843365a0-30d5-479...|     Olivia Tyler|arnoldnatalie@exa...|          7139501631|       Faroe Islands|\n",
      "|61a98216-3f7a-4a9...|       Emily Reed|stephenrich@examp...|               -8382|         Afghanistan|\n",
      "|e738d2c5-cd3e-48f...|   Amber Bradshaw|judith30@example.org|  (359)384-4954x8578|   Equatorial Guinea|\n",
      "|4d49980c-3673-45b...|     Kyle Dean MD|thompsonjennifer@...| +1-212-814-2921x436|Saint Pierre and ...|\n",
      "|5613fae4-8955-454...| Brittany Cochran|wilkersonwesley@e...|               -8077|          Uzbekistan|\n",
      "|470a6b1d-1ead-484...|   Sabrina Harper| randy12@example.org|001-499-637-5163x...|            Botswana|\n",
      "+--------------------+-----------------+--------------------+--------------------+--------------------+\n",
      "only showing top 20 rows\n",
      "\n"
     ]
    }
   ],
   "source": [
    "df_customers.dropDuplicates()\n",
    "df_customers.show()"
   ]
  },
  {
   "cell_type": "code",
   "execution_count": 77,
   "metadata": {},
   "outputs": [
    {
     "name": "stdout",
     "output_type": "stream",
     "text": [
      "+--------------------+--------------------+----------+----------+------+--------------------+\n",
      "|      Transaction_ID|         Customer_ID|Product_ID|      Date|Amount|        Sales_Rep_ID|\n",
      "+--------------------+--------------------+----------+----------+------+--------------------+\n",
      "|31190b6c-54cd-4cd...|d7522cab-f713-4c7...|        48|01-04-2024|   234|8aede4f3-bd43-45a...|\n",
      "|05d4bcca-dc8e-405...|dae0689d-0c38-440...|         3|28-03-2024|   119|c48b42a3-544b-454...|\n",
      "|9b6e01be-1814-41e...|075005e4-bb34-496...|        26|09-06-2024|   240|d7558c8d-5355-48e...|\n",
      "|46bd8f7c-20e0-405...|ec910504-7738-463...|        37|24-03-2024|   451|d0fa26a0-d161-497...|\n",
      "|f02dded4-81bf-431...|84441f52-77e5-450...|         4|29-05-2024|    78|8aede4f3-bd43-45a...|\n",
      "|9b068943-af5f-4e4...|2b2673a4-7eed-477...|        20|23-07-2024|   382|5f719abf-9d76-49d...|\n",
      "|810a7e7a-8a84-4f0...|742f0811-2251-480...|        16|10-06-2024|   191|d0fa26a0-d161-497...|\n",
      "|a62a6e9d-6520-457...|c7f17f22-4ba9-4d2...|        12|07-04-2024|   405|182f2a72-4271-4bb...|\n",
      "|7732c304-f7ee-424...|8b32a852-99ed-4de...|        15|15-06-2024|   452|8aede4f3-bd43-45a...|\n",
      "|4dee3398-db6d-499...|1d664e5b-d86e-4a5...|        26|16-02-2024|   186|e48e19e2-3978-433...|\n",
      "|b0cc0929-4f6a-4fb...|dcfde7f7-afda-460...|        33|20-02-2024|   264|bcbf0f5c-6497-421...|\n",
      "|007fa68d-e211-47a...|006af455-013b-4c0...|        43|14-02-2024|   357|33ea8c7d-1b0a-4be...|\n",
      "|6326201e-38cb-4b1...|96012fd8-091c-429...|        48|06-07-2024|   380|5184e796-6c9f-401...|\n",
      "|d046f83e-4bb4-420...|b8564eba-3bc2-430...|        27|21-07-2024|   242|5f719abf-9d76-49d...|\n",
      "|8ca7d031-990a-4b6...|ff3a6c5b-77ac-485...|        46|13-01-2024|   263|d0fa26a0-d161-497...|\n",
      "|d9ff5d09-c0e2-438...|877b1593-0779-449...|        18|14-06-2024|   317|d07336a6-e21c-45d...|\n",
      "|79efd046-fa1a-467...|df1d006a-dcec-4ae...|         7|27-02-2024|   220|7bf59475-aa40-48d...|\n",
      "|2581c29a-4cdb-4ae...|3e1907bd-306b-461...|        19|21-06-2024|   264|440d8680-f45c-487...|\n",
      "|b2653378-fb94-40e...|0e206840-2f54-49e...|         7|17-01-2024|   272|c48b42a3-544b-454...|\n",
      "|1e9c2fdd-3eea-405...|32c43310-2156-40b...|        25|02-05-2024|   234|9dd03ac8-7cac-493...|\n",
      "+--------------------+--------------------+----------+----------+------+--------------------+\n",
      "only showing top 20 rows\n",
      "\n",
      "+--------------------+--------------------+----------+----------+------+--------------------+\n",
      "|      Transaction_ID|         Customer_ID|Product_ID|      Date|Amount|        Sales_Rep_ID|\n",
      "+--------------------+--------------------+----------+----------+------+--------------------+\n",
      "|31190b6c-54cd-4cd...|d7522cab-f713-4c7...|        48|01-04-2024|   234|8aede4f3-bd43-45a...|\n",
      "|05d4bcca-dc8e-405...|dae0689d-0c38-440...|         3|28-03-2024|   119|c48b42a3-544b-454...|\n",
      "|9b6e01be-1814-41e...|075005e4-bb34-496...|        26|09-06-2024|   240|d7558c8d-5355-48e...|\n",
      "|46bd8f7c-20e0-405...|ec910504-7738-463...|        37|24-03-2024|   451|d0fa26a0-d161-497...|\n",
      "|f02dded4-81bf-431...|84441f52-77e5-450...|         4|29-05-2024|    78|8aede4f3-bd43-45a...|\n",
      "|9b068943-af5f-4e4...|2b2673a4-7eed-477...|        20|23-07-2024|   382|5f719abf-9d76-49d...|\n",
      "|810a7e7a-8a84-4f0...|742f0811-2251-480...|        16|10-06-2024|   191|d0fa26a0-d161-497...|\n",
      "|a62a6e9d-6520-457...|c7f17f22-4ba9-4d2...|        12|07-04-2024|   405|182f2a72-4271-4bb...|\n",
      "|7732c304-f7ee-424...|8b32a852-99ed-4de...|        15|15-06-2024|   452|8aede4f3-bd43-45a...|\n",
      "|4dee3398-db6d-499...|1d664e5b-d86e-4a5...|        26|16-02-2024|   186|e48e19e2-3978-433...|\n",
      "|b0cc0929-4f6a-4fb...|dcfde7f7-afda-460...|        33|20-02-2024|   264|bcbf0f5c-6497-421...|\n",
      "|007fa68d-e211-47a...|006af455-013b-4c0...|        43|14-02-2024|   357|33ea8c7d-1b0a-4be...|\n",
      "|6326201e-38cb-4b1...|96012fd8-091c-429...|        48|06-07-2024|   380|5184e796-6c9f-401...|\n",
      "|d046f83e-4bb4-420...|b8564eba-3bc2-430...|        27|21-07-2024|   242|5f719abf-9d76-49d...|\n",
      "|8ca7d031-990a-4b6...|ff3a6c5b-77ac-485...|        46|13-01-2024|   263|d0fa26a0-d161-497...|\n",
      "|d9ff5d09-c0e2-438...|877b1593-0779-449...|        18|14-06-2024|   317|d07336a6-e21c-45d...|\n",
      "|79efd046-fa1a-467...|df1d006a-dcec-4ae...|         7|27-02-2024|   220|7bf59475-aa40-48d...|\n",
      "|2581c29a-4cdb-4ae...|3e1907bd-306b-461...|        19|21-06-2024|   264|440d8680-f45c-487...|\n",
      "|b2653378-fb94-40e...|0e206840-2f54-49e...|         7|17-01-2024|   272|c48b42a3-544b-454...|\n",
      "|1e9c2fdd-3eea-405...|32c43310-2156-40b...|        25|02-05-2024|   234|9dd03ac8-7cac-493...|\n",
      "+--------------------+--------------------+----------+----------+------+--------------------+\n",
      "only showing top 20 rows\n",
      "\n"
     ]
    }
   ],
   "source": [
    "df_transactions.show()\n",
    "df_transactions.dropDuplicates()\n",
    "df_transactions.show()"
   ]
  },
  {
   "cell_type": "code",
   "execution_count": 78,
   "metadata": {},
   "outputs": [
    {
     "data": {
      "text/plain": [
       "DataFrame[Sales_Rep_ID: string, Name: string, Region: string, Sales_Target: int, Sales_Achieved: int]"
      ]
     },
     "execution_count": 78,
     "metadata": {},
     "output_type": "execute_result"
    }
   ],
   "source": [
    "df_interactions.dropDuplicates()\n",
    "df_products.dropDuplicates()\n",
    "df_sales.dropDuplicates()\n",
    "\n",
    "#sprint1 ends"
   ]
  },
  {
   "cell_type": "code",
   "execution_count": 91,
   "metadata": {},
   "outputs": [],
   "source": [
    "\n",
    "\n",
    "# if __name__ == \"__main__\":\n",
    "#     main()\n",
    "\n",
    "    "
   ]
  }
 ],
 "metadata": {
  "kernelspec": {
   "display_name": "Python 3",
   "language": "python",
   "name": "python3"
  },
  "language_info": {
   "codemirror_mode": {
    "name": "ipython",
    "version": 3
   },
   "file_extension": ".py",
   "mimetype": "text/x-python",
   "name": "python",
   "nbconvert_exporter": "python",
   "pygments_lexer": "ipython3",
   "version": "3.11.9"
  }
 },
 "nbformat": 4,
 "nbformat_minor": 2
}
